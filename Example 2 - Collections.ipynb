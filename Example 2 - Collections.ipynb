{
 "cells": [
  {
   "cell_type": "code",
   "execution_count": 1,
   "id": "e409e48c",
   "metadata": {},
   "outputs": [
    {
     "name": "stdout",
     "output_type": "stream",
     "text": [
      "6\n"
     ]
    }
   ],
   "source": [
    "# Importing Module & generating random number\n",
    "\n",
    "import random\n",
    "\n",
    "print(random.randrange(1, 10))"
   ]
  },
  {
   "cell_type": "code",
   "execution_count": 10,
   "id": "fdcf2cda",
   "metadata": {},
   "outputs": [
    {
     "name": "stdout",
     "output_type": "stream",
     "text": [
      "['apple', 'banana', 'cherry', 'orange', 'kiwi', 'melon', 'mango']\n",
      "7\n",
      "<class 'list'>\n",
      "banana\n",
      "['cherry', 'orange', 'kiwi']\n",
      "Yes, 'apple' is in the fruits list\n",
      "['apple', 'blackcurrant', 'cherry', 'orange', 'kiwi', 'melon', 'mango']\n",
      "['apple', 'blackcurrant', 'watermelon', 'orange', 'kiwi', 'melon', 'mango']\n",
      "apple\n",
      "blackcurrant\n",
      "watermelon\n",
      "orange\n",
      "kiwi\n",
      "melon\n",
      "mango\n",
      "apple\n",
      "blackcurrant\n",
      "watermelon\n",
      "orange\n",
      "kiwi\n",
      "melon\n",
      "mango\n",
      "apple\n",
      "blackcurrant\n",
      "watermelon\n",
      "orange\n",
      "kiwi\n",
      "melon\n",
      "mango\n"
     ]
    }
   ],
   "source": [
    "# Working with List\n",
    "thislist = [\"apple\", \"banana\", \"cherry\", \"orange\", \"kiwi\", \"melon\", \"mango\"]\n",
    "print(thislist)\n",
    "\n",
    "# Get length\n",
    "print(len(thislist))\n",
    "\n",
    "# Type of list is object\n",
    "print(type(thislist))\n",
    "\n",
    "# Get item at index in list\n",
    "print(thislist[1])\n",
    "\n",
    "# Get sublist\n",
    "print(thislist[2:5])\n",
    "\n",
    "# IN Operator in list\n",
    "if \"apple\" in thislist:\n",
    "  print(\"Yes, 'apple' is in the fruits list\")\n",
    "\n",
    "# Change element at index 1\n",
    "thislist[1] = \"blackcurrant\"\n",
    "print(thislist)\n",
    "\n",
    "# Change range of item\n",
    "thislist[1:3] = [\"blackcurrant\", \"watermelon\"]\n",
    "print(thislist)\n",
    "\n",
    "# Loop through list\n",
    "for x in thislist:\n",
    "  print(x)\n",
    "\n",
    "# Loop and get index\n",
    "for i in range(len(thislist)):\n",
    "  print(thislist[i])\n",
    "\n",
    "\n",
    "# WHile loop\n",
    "i = 0\n",
    "while i < len(thislist):\n",
    "  print(thislist[i])\n",
    "  i = i + 1"
   ]
  },
  {
   "cell_type": "code",
   "execution_count": 18,
   "id": "22157649",
   "metadata": {},
   "outputs": [
    {
     "name": "stdout",
     "output_type": "stream",
     "text": [
      "<class 'tuple'>\n",
      "Yes, 'apple' is in the fruits tuple\n"
     ]
    }
   ],
   "source": [
    "# Tuple is similar to list but can have multiple data types\n",
    "tuple1 = (\"abc\", 34, True, 40, \"male\", \"apple\")\n",
    "print(type(tuple1))\n",
    "\n",
    "\n",
    "if \"apple\" in tuple1:\n",
    "  print(\"Yes, 'apple' is in the fruits tuple\")\n",
    "else: \n",
    "  print(\"NO, 'apple' is not in the fruits tuple\")"
   ]
  },
  {
   "cell_type": "code",
   "execution_count": 19,
   "id": "e8d99e79",
   "metadata": {},
   "outputs": [
    {
     "name": "stdout",
     "output_type": "stream",
     "text": [
      "13\n"
     ]
    }
   ],
   "source": [
    "# Lambda function is a small anonymous function\n",
    "x = lambda a, b, c : a + b + c\n",
    "print(x(5, 6, 2))\n"
   ]
  },
  {
   "cell_type": "code",
   "execution_count": null,
   "id": "b81f6550",
   "metadata": {},
   "outputs": [],
   "source": []
  }
 ],
 "metadata": {
  "kernelspec": {
   "display_name": "Python 3 (ipykernel)",
   "language": "python",
   "name": "python3"
  },
  "language_info": {
   "codemirror_mode": {
    "name": "ipython",
    "version": 3
   },
   "file_extension": ".py",
   "mimetype": "text/x-python",
   "name": "python",
   "nbconvert_exporter": "python",
   "pygments_lexer": "ipython3",
   "version": "3.9.12"
  }
 },
 "nbformat": 4,
 "nbformat_minor": 5
}
